{
 "cells": [
  {
   "cell_type": "code",
   "execution_count": 1,
   "metadata": {},
   "outputs": [
    {
     "name": "stdout",
     "output_type": "stream",
     "text": [
      "¡Hola mundo!\n",
      "¡Hola mundo!\n",
      "¡Hola mundo!\n",
      "¡Hola mundo!\n",
      "¡Hola mundo!\n"
     ]
    },
    {
     "data": {
      "text/plain": [
       "0"
      ]
     },
     "execution_count": 1,
     "metadata": {},
     "output_type": "execute_result"
    }
   ],
   "source": [
    "import wx\n",
    "\n",
    "\n",
    "class MainWindow(wx.Frame):\n",
    "    # Creamos nuestra ventana a partir de un Frame\n",
    "\n",
    "    def __init__(self):\n",
    "        # Con super ejecutamos su propio constructor y le pasamos los argumentos\n",
    "        # Así se crea la ventana en su propia instancia self\n",
    "        super().__init__(None, wx.ID_ANY, size=(200, 100))\n",
    "        button = wx.Button(self, wx.ID_ANY, \"Hola\")\n",
    "        button.Bind(wx.EVT_BUTTON, self.hola)\n",
    "        # Finalmente mostramos la ventana\n",
    "        self.Show(True)\n",
    "\n",
    "    # Se requiere un parámetro de argumentos indeterminados en los métodos\n",
    "    def hola(self, *args):\n",
    "        print(\"¡Hola mundo!\")\n",
    "\n",
    "\n",
    "# Creamos la aplicación, la ventana e iniciamos el bucle\n",
    "app = wx.App()\n",
    "window = MainWindow()\n",
    "app.MainLoop()"
   ]
  },
  {
   "cell_type": "markdown",
   "metadata": {},
   "source": [
    "Ahora que hemos visto Tkinter, las otras bibliotecas se entenderán mucho más fácilmente, ya que la estructura de los programas es prácticamente la misma cambiando un poco la sintaxis.\n",
    "\n",
    "En esta lección vamos a conocer WxPython /wixpython/, un binding para WxWidgets /wixwidgets/, una biblioteca libre y multiplataforma para desarrollar interfaces en C++.\n",
    "\n",
    "Cuenta con un conjunto de elementos gráficos mucho más extenso que el de Tkinter y a diferencia de éste es mucho más flexible para controlar la interfaz. Algunas características interesantes que ofrece son por ejemplo una apariencia más nativa en cada sistema operativo, la posibilidad de separar el diseño del código usando ficheros XML y también la de crear tus propios componentes gráficos. Por contra es más difícil de aprender y hay que instalarla a parte."
   ]
  },
  {
   "cell_type": "code",
   "execution_count": null,
   "metadata": {},
   "outputs": [],
   "source": []
  }
 ],
 "metadata": {
  "kernelspec": {
   "display_name": "Python 3",
   "language": "python",
   "name": "python3"
  },
  "language_info": {
   "codemirror_mode": {
    "name": "ipython",
    "version": 3
   },
   "file_extension": ".py",
   "mimetype": "text/x-python",
   "name": "python",
   "nbconvert_exporter": "python",
   "pygments_lexer": "ipython3",
   "version": "3.7.4"
  }
 },
 "nbformat": 4,
 "nbformat_minor": 4
}
