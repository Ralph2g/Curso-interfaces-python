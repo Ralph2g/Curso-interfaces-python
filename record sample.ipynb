{
 "cells": [
  {
   "cell_type": "code",
   "execution_count": 1,
   "metadata": {},
   "outputs": [
    {
     "ename": "AttributeError",
     "evalue": "type object 'PySide2.QtMultimedia.QAudioRecorder' has no attribute 'input'",
     "output_type": "error",
     "traceback": [
      "\u001b[1;31m---------------------------------------------------------------------------\u001b[0m",
      "\u001b[1;31mAttributeError\u001b[0m                            Traceback (most recent call last)",
      "\u001b[1;32m<ipython-input-1-362eb2e1a53f>\u001b[0m in \u001b[0;36mhola\u001b[1;34m(self)\u001b[0m\n\u001b[0;32m     16\u001b[0m \u001b[1;33m\u001b[0m\u001b[0m\n\u001b[0;32m     17\u001b[0m     \u001b[1;32mdef\u001b[0m \u001b[0mhola\u001b[0m\u001b[1;33m(\u001b[0m\u001b[0mself\u001b[0m\u001b[1;33m)\u001b[0m\u001b[1;33m:\u001b[0m\u001b[1;33m\u001b[0m\u001b[1;33m\u001b[0m\u001b[0m\n\u001b[1;32m---> 18\u001b[1;33m          \u001b[0mQM\u001b[0m\u001b[1;33m.\u001b[0m\u001b[0mQAudioRecorder\u001b[0m\u001b[1;33m.\u001b[0m\u001b[0minput\u001b[0m\u001b[1;33m(\u001b[0m\u001b[1;33m)\u001b[0m\u001b[1;33m\u001b[0m\u001b[1;33m\u001b[0m\u001b[0m\n\u001b[0m\u001b[0;32m     19\u001b[0m \u001b[1;31m# Creamos la aplicación, la ventana e iniciamos el bucle\u001b[0m\u001b[1;33m\u001b[0m\u001b[1;33m\u001b[0m\u001b[1;33m\u001b[0m\u001b[0m\n\u001b[0;32m     20\u001b[0m \u001b[0mapp\u001b[0m \u001b[1;33m=\u001b[0m \u001b[0mQW\u001b[0m\u001b[1;33m.\u001b[0m\u001b[0mQApplication\u001b[0m\u001b[1;33m(\u001b[0m\u001b[1;33m)\u001b[0m\u001b[1;33m\u001b[0m\u001b[1;33m\u001b[0m\u001b[0m\n",
      "\u001b[1;31mAttributeError\u001b[0m: type object 'PySide2.QtMultimedia.QAudioRecorder' has no attribute 'input'"
     ]
    },
    {
     "data": {
      "text/plain": [
       "0"
      ]
     },
     "execution_count": 1,
     "metadata": {},
     "output_type": "execute_result"
    }
   ],
   "source": [
    "from PySide2 import QtWidgets as QW\n",
    "from PySide2 import QtMultimedia as QM\n",
    "\n",
    "class MainWindow(QW.QMainWindow):\n",
    "    # Creamos nuestra ventana a partir de un QMainWindow\n",
    "    def __init__(self):\n",
    "        # Con super ejecutamos su propio constructor\n",
    "        # Así se crea la ventana en su propia instancia self\n",
    "        super().__init__()\n",
    "        # Redimensionamos y añadimos el botón\n",
    "        self.resize(200, 100)\n",
    "        button = QW.QPushButton(\"Hola\", self)\n",
    "        button.clicked.connect(self.hola)\n",
    "        # Finalmente mostramos la ventana\n",
    "        self.show()\n",
    "\n",
    "    def hola(self):\n",
    "         QM.QAudioRecorder.input()\n",
    "# Creamos la aplicación, la ventana e iniciamos el bucle\n",
    "app = QW.QApplication()\n",
    "window = MainWindow()\n",
    "app.exec_()"
   ]
  },
  {
   "cell_type": "code",
   "execution_count": null,
   "metadata": {},
   "outputs": [],
   "source": []
  }
 ],
 "metadata": {
  "kernelspec": {
   "display_name": "Python 3",
   "language": "python",
   "name": "python3"
  },
  "language_info": {
   "codemirror_mode": {
    "name": "ipython",
    "version": 3
   },
   "file_extension": ".py",
   "mimetype": "text/x-python",
   "name": "python",
   "nbconvert_exporter": "python",
   "pygments_lexer": "ipython3",
   "version": "3.7.4"
  }
 },
 "nbformat": 4,
 "nbformat_minor": 4
}
