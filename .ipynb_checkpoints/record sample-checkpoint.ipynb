{
 "cells": [
  {
   "cell_type": "code",
   "execution_count": null,
   "metadata": {},
   "outputs": [],
   "source": [
    "from PySide2 import QtWidgets as QW\n",
    "\n",
    "\n",
    "class MainWindow(QW.QMainWindow):\n",
    "    # Creamos nuestra ventana a partir de un QMainWindow\n",
    "    def __init__(self):\n",
    "        # Con super ejecutamos su propio constructor\n",
    "        # Así se crea la ventana en su propia instancia self\n",
    "        super().__init__()\n",
    "        # Redimensionamos y añadimos el botón\n",
    "        self.resize(200, 100)\n",
    "        button = QW.QPushButton(\"Hola\", self)\n",
    "        button.clicked.connect(self.hola)\n",
    "        # Finalmente mostramos la ventana\n",
    "        self.show()\n",
    "\n",
    "    def hola(self):\n",
    "        # Creamos la aplicación, la ventana e iniciamos el bucle\n",
    "        app = QW.QApplication()\n",
    "        window = MainWindow()\n",
    "        app.exec_()\n",
    "\n",
    "        QAudioEncoderSettings settings;\n",
    "        settings.setCodec(boxValue(ui->audioCodecBox).toString());\n",
    "        settings.setSampleRate(boxValue(ui->sampleRateBox).toInt());\n",
    "        settings.setBitRate(boxValue(ui->bitrateBox).toInt());\n",
    "        settings.setQuality(QMultimedia::EncodingQuality(ui->qualitySlider->value()));\n",
    "        settings.setEncodingMode(ui->constantQualityRadioButton->isChecked() ?\n",
    "                                 QMultimedia::ConstantQualityEncoding :\n",
    "                                 QMultimedia::ConstantBitRateEncoding);\n",
    "\n",
    "        QString container = boxValue(ui->containerBox).toString();\n",
    "\n",
    "        audioRecorder->setEncodingSettings(settings, QVideoEncoderSettings(), container);\n",
    "        audioRecorder->record();\n",
    "\n",
    "\n"
   ]
  }
 ],
 "metadata": {
  "kernelspec": {
   "display_name": "Python 3",
   "language": "python",
   "name": "python3"
  },
  "language_info": {
   "codemirror_mode": {
    "name": "ipython",
    "version": 3
   },
   "file_extension": ".py",
   "mimetype": "text/x-python",
   "name": "python",
   "nbconvert_exporter": "python",
   "pygments_lexer": "ipython3",
   "version": "3.7.4"
  }
 },
 "nbformat": 4,
 "nbformat_minor": 4
}
