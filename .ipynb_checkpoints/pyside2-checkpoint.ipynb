{
 "cells": [
  {
   "cell_type": "code",
   "execution_count": 1,
   "metadata": {},
   "outputs": [
    {
     "name": "stdout",
     "output_type": "stream",
     "text": [
      "¡Hola mundo!\n",
      "¡Hola mundo!\n",
      "¡Hola mundo!\n",
      "¡Hola mundo!\n",
      "¡Hola mundo!\n"
     ]
    },
    {
     "data": {
      "text/plain": [
       "0"
      ]
     },
     "execution_count": 1,
     "metadata": {},
     "output_type": "execute_result"
    }
   ],
   "source": [
    "from PySide2 import QtWidgets as QW\n",
    "\n",
    "\n",
    "class MainWindow(QW.QMainWindow):\n",
    "    # Creamos nuestra ventana a partir de un QMainWindow\n",
    "    def __init__(self):\n",
    "        # Con super ejecutamos su propio constructor\n",
    "        # Así se crea la ventana en su propia instancia self\n",
    "        super().__init__()\n",
    "        # Redimensionamos y añadimos el botón\n",
    "        self.resize(200, 100)\n",
    "        button = QW.QPushButton(\"Hola\", self)\n",
    "        button.clicked.connect(self.hola)\n",
    "        # Finalmente mostramos la ventana\n",
    "        self.show()\n",
    "\n",
    "    def hola(self):\n",
    "        print(\"¡Hola mundo!\")\n",
    "\n",
    "\n",
    "# Creamos la aplicación, la ventana e iniciamos el bucle\n",
    "app = QW.QApplication()\n",
    "window = MainWindow()\n",
    "app.exec_()"
   ]
  },
  {
   "cell_type": "code",
   "execution_count": null,
   "metadata": {},
   "outputs": [],
   "source": []
  }
 ],
 "metadata": {
  "kernelspec": {
   "display_name": "Python 3",
   "language": "python",
   "name": "python3"
  },
  "language_info": {
   "codemirror_mode": {
    "name": "ipython",
    "version": 3
   },
   "file_extension": ".py",
   "mimetype": "text/x-python",
   "name": "python",
   "nbconvert_exporter": "python",
   "pygments_lexer": "ipython3",
   "version": "3.7.4"
  }
 },
 "nbformat": 4,
 "nbformat_minor": 4
}
