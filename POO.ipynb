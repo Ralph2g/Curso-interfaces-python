{
 "cells": [
  {
   "cell_type": "markdown",
   "metadata": {},
   "source": [
    "## POO en Python\n",
    "### En esta parte daremos un pequeño repaso de POO con python\n",
    "\n"
   ]
  },
  {
   "cell_type": "markdown",
   "metadata": {},
   "source": [
    "La base de las clases es una definicion que explica como crear un nuevo tipo de dato"
   ]
  },
  {
   "cell_type": "code",
   "execution_count": 6,
   "metadata": {},
   "outputs": [
    {
     "name": "stdout",
     "output_type": "stream",
     "text": [
      "object\n"
     ]
    }
   ],
   "source": [
    "objeto = object()\n",
    "#\n",
    "print(type(objeto).__name__)"
   ]
  },
  {
   "cell_type": "markdown",
   "metadata": {},
   "source": [
    "Ahora un objeto puede ser representada como un mode para galletas donde las halletas son los objetos creados por el molde"
   ]
  },
  {
   "cell_type": "raw",
   "metadata": {},
   "source": [
    "class Galleta:\n",
    "    pass\n",
    "galleta  = Galleta()\n",
    "print(type(galleta).__name__)"
   ]
  },
  {
   "cell_type": "markdown",
   "metadata": {},
   "source": [
    "### Instanciamento de objetos:\n",
    "El intanciamiento de objetos es reservar un espeacio de memoria para almacenar una variable."
   ]
  },
  {
   "cell_type": "raw",
   "metadata": {},
   "source": [
    "numero = 10\n",
    "cadena = \"Hola mundo\"\n",
    "lista = [3,5,6]\n",
    "\n",
    "print(hex(id(numero)))\n",
    "print(hex(id(cadena)))\n",
    "print(hex(id(lista)))\n",
    "print(hex(id(Galleta)))"
   ]
  },
  {
   "cell_type": "markdown",
   "metadata": {},
   "source": [
    "### Metodos\n",
    "Nuestros métodos nos ayudarán a a interactuar con  los atributos y valores de nuestro objeto. \n",
    "En el sig ejemplo ejecutaremos el método para cambiar el atributo de chocolate en nuestra galleta."
   ]
  },
  {
   "cell_type": "raw",
   "metadata": {},
   "source": [
    "class Galleta:\n",
    "    sabor = \"dulce\"\n",
    "    chocolate = False\n",
    "    \n",
    "    def chocolatear(self):\n",
    "        self.chocolate = True\n",
    "galleta = Galleta()\n",
    "galleta.chocolatear()\n",
    "print(galleta.chocolate)"
   ]
  },
  {
   "cell_type": "markdown",
   "metadata": {},
   "source": [
    "### Método constructor\n",
    "Las clases pueden recibir algunos valores iniciales para establecerlos en sus posibles atributos internos.\n"
   ]
  },
  {
   "cell_type": "markdown",
   "metadata": {},
   "source": [
    "class Galleta:\n",
    "    sabor = \"dulce\"\n",
    "    chocolate = False\n",
    "    \n",
    "    def __init__(self, sabor=\"dulce\", chocolate=False):\n",
    "        self.sabor = sabor\n",
    "        self.chocolate = chocolate\n",
    "        print(\"Has creado una galleta\")\n",
    "        \n",
    "    def chocolatear(self):\n",
    "        self.chocolate = True\n",
    "galleta = Galleta(\"fresa\",False)\n"
   ]
  },
  {
   "cell_type": "markdown",
   "metadata": {},
   "source": [
    "### Método String\n",
    "Otro método especial que vale la pena comentar es __str__, sirve para dar una representación textual a un objeto en forma de cadena.\n",
    "\n",
    "En nuestro caso nos sería muy útil para mostrar un resumen de la galleta al imprimirla por pantalla con print():"
   ]
  },
  {
   "cell_type": "code",
   "execution_count": 28,
   "metadata": {},
   "outputs": [
    {
     "name": "stdout",
     "output_type": "stream",
     "text": [
      "Soy una galletita dulce\n"
     ]
    }
   ],
   "source": [
    "class Galleta:\n",
    "\n",
    "    def __init__(self, sabor=\"dulce\", chocolate=False):\n",
    "        self.sabor = sabor\n",
    "        self.chocolate = chocolate\n",
    "\n",
    "    def __str__(self):\n",
    "    \tresumen = \"Soy una galletita \" + self.sabor\n",
    "    \tif self.chocolate:\n",
    "    \t\tresumen += \" con chocolate\"\n",
    "    \treturn resumen  # debe devolver una cadena\n",
    "\n",
    "    def chocolatear(self):\n",
    "        self.chocolate = True\n",
    "\n",
    "\n",
    "galleta = Galleta()\n",
    "print(galleta)"
   ]
  },
  {
   "cell_type": "markdown",
   "metadata": {},
   "source": [
    "Como vemos print() ejecuta implícitamente el metodo string del objeto galleta.\n",
    "\n",
    "Este valor también podemos conseguirlo llamándolo directamente o utilizando la función str():"
   ]
  },
  {
   "cell_type": "code",
   "execution_count": 29,
   "metadata": {},
   "outputs": [
    {
     "name": "stdout",
     "output_type": "stream",
     "text": [
      "Soy una galletita dulce\n",
      "Soy una galletita dulce\n",
      "Soy una galletita dulce\n"
     ]
    }
   ],
   "source": [
    "galleta = Galleta()\n",
    "print(galleta)\n",
    "\n",
    "resumen_galleta = galleta.__str__()\n",
    "print(resumen_galleta)\n",
    "\n",
    "resumen_galleta = str(galleta)\n",
    "print(resumen_galleta)"
   ]
  },
  {
   "cell_type": "markdown",
   "metadata": {},
   "source": [
    "### Herencia\n",
    "La herencia de clases es la capacidad que tiene una clase, llamada subclase, de heredar los atributos y métodos de una o varias clases, llamadas superclases.\n",
    "\n",
    "Para explicar este concepto he usado de ejemplo una clases Vehículo que sirve como base de dos clases Coche y Camión. O también una clase Animal como base para dos clases Gato y Perro. Todos los vehículo tienen ruedas, todos los animales tienen patas, etc. Se trata de encontar atributos comunes en las clases padre y hacer que las clases hijas los hereden, bla, bla, bla.\n",
    "\n",
    "Pero sinceramente, en todos los años que llevo programando, que son como 12 o 13, sólo he diseñado un sistema alrededor de este concepto y ni siquiera salió bien. No me malinterpretéis, no quiero decir que la herencia sea una tontería, sino que raramente es aplicable para resolver problemas del mundo real. Donde sale a relucir su verdadero potencial es en la ingeniería de software, cuando se utiliza para crear bibliotecas que tienen como objetivo desarrollar más software, como por ejemplo los frameworks web, los motores de videojuegos y las interfaces gráficas, que son entornos puramente virtuales.\n",
    "\n",
    "Fuera de estos ámbitos sólo hay una razón por la que la herencia me parece útil, y esa es es para extender las funcionalidades de las clases heredando de otras clases. Estas clases se conocen como Mixins y tienen la peculiaridad de ofrecer una funcionalidad pero por si mismas no sirven para nada.\n",
    "\n",
    "Imagina que tenemos una clase A y otra clase B sin nada en especial:"
   ]
  },
  {
   "cell_type": "raw",
   "metadata": {},
   "source": [
    "class A:\n",
    "    pass\n",
    "\n",
    "\n",
    "class B:\n",
    "    pass"
   ]
  },
  {
   "cell_type": "markdown",
   "metadata": {},
   "source": [
    "Nuestro objetivo es implementar en ellas un nuevo método llamado instancia() que muestre por pantalla su posición en la memoria.\n",
    "\n",
    "Usando un mixin esto sería muy fácil de solucionar, simplemente crearemos una clase que haga eso mismo y haremos que A y B hereden de ella para extender su comportamiento:"
   ]
  },
  {
   "cell_type": "markdown",
   "metadata": {},
   "source": [
    "class MixinInstancia:\n",
    "\tdef instancia(self):\n",
    "\t\tprint(hex(id(self)))\n",
    "\n",
    "class A(MixinInstancia):\n",
    "    pass\n",
    "\n",
    "\n",
    "class B(MixinInstancia):\n",
    "    pass\n",
    "\n",
    "a = A()\n",
    "a.instancia()\n",
    "\n",
    "b = B()\n",
    "b.instancia()\n"
   ]
  },
  {
   "cell_type": "markdown",
   "metadata": {},
   "source": [
    "Pero no nos quedemos aquí. Imaginad que necesitamos otra función común para mostrar por pantalla el nombre de la clase, pues podríamos declarar otro mixin y heredar de él, dando como lugar al concepto de herencia múltiple:"
   ]
  },
  {
   "cell_type": "code",
   "execution_count": 34,
   "metadata": {},
   "outputs": [
    {
     "name": "stdout",
     "output_type": "stream",
     "text": [
      "0x2618b03a948\n",
      "A\n",
      "0x2618b03ae88\n",
      "B\n"
     ]
    }
   ],
   "source": [
    "class MixinInstancia:\n",
    "    def instancia(self):\n",
    "        print(hex(id(self)))\n",
    "\n",
    "\n",
    "class MixinClase:\n",
    "    def clase(self):\n",
    "        print(type(self).__name__)\n",
    "\n",
    "\n",
    "class A(MixinInstancia, MixinClase):\n",
    "    pass\n",
    "\n",
    "\n",
    "class B(MixinInstancia, MixinClase):\n",
    "    pass\n",
    "\n",
    "\n",
    "a = A()\n",
    "a.instancia()\n",
    "a.clase()\n",
    "\n",
    "b = B()\n",
    "b.instancia()\n",
    "b.clase()"
   ]
  },
  {
   "cell_type": "markdown",
   "metadata": {},
   "source": [
    "Usando mixins podemos extender nuestras clases de una forma flexible, sin obligar a que una clase tengan todas las funcionalidades de otra por el hecho de heredar de ella, algo que puede ocasionar problemas trabajando con herencia múltiple."
   ]
  },
  {
   "cell_type": "markdown",
   "metadata": {},
   "source": [
    "### Herencia Multiple\n",
    "Cuando heredamos de varias clases y éstas no son Mixins, la herencia múltiple puede volverse en nuestra contra, ya que las subclases heredan todo el contenido de las superclases. ¿Pero es eso cierto? ¿Lo heredan todo? Pues no, en el caso de que dos o más superclases tengan el mismo método, solo uno de los métodos prevalecerá.\n",
    "\n",
    "Esto se puede ilustrar con un ejemplo:"
   ]
  },
  {
   "cell_type": "code",
   "execution_count": 35,
   "metadata": {},
   "outputs": [
    {
     "name": "stdout",
     "output_type": "stream",
     "text": [
      "Hola heredado de la clase A\n"
     ]
    }
   ],
   "source": [
    "class A():\n",
    "    def hola(self):\n",
    "    \tprint(\"Hola heredado de la clase A\")\n",
    "\n",
    "class B():\n",
    "    def hola(self):\n",
    "    \tprint(\"Hola heredado de la clase B\")\n",
    "\n",
    "class C(A,B):\n",
    "\tpass\n",
    "\n",
    "c = C()\n",
    "c.hola()"
   ]
  },
  {
   "cell_type": "markdown",
   "metadata": {},
   "source": [
    "La superclase dominante es la A, y la única razón para que sea así es que se encuentra más a la izquierda al heredarla. Sí, la posición es lo que determina la prioridad en la herencia cuando tenemos el mismo método.\n",
    "\n",
    "Esto que a priori parece sin importancia puede ser un problema, porque imaginad el caso excepcional donde tenemos dos métodos solapados y queremos heredar uno de una clase específica, no podemos porque la prioridad lo destruye:"
   ]
  },
  {
   "cell_type": "code",
   "execution_count": 36,
   "metadata": {},
   "outputs": [
    {
     "name": "stdout",
     "output_type": "stream",
     "text": [
      "Adiós heredado de la clase A\n"
     ]
    }
   ],
   "source": [
    "class A():\n",
    "    def hola(self):\n",
    "    \tprint(\"Hola heredado de la clase A\")\n",
    "\n",
    "    def adios(self):\n",
    "    \tprint(\"Adiós heredado de la clase A\")\n",
    "\n",
    "class B():\n",
    "    def hola(self):\n",
    "    \tprint(\"Hola heredado de la clase B\")\n",
    "\n",
    "    def adios(self):\n",
    "    \tprint(\"Adiós heredado de la clase B\")\n",
    "\n",
    "class C(A,B):\n",
    "\tpass\n",
    "\n",
    "c = C()\n",
    "c.adios()  # No podemos heredar de B aunque queramos"
   ]
  },
  {
   "cell_type": "markdown",
   "metadata": {},
   "source": [
    "Por suerte hay una forma muy fácil de solucionar el problema. Esa es sobreescribir el método en la subclase y hacer la llamada manualmente al método de la superclase que necesitamos:"
   ]
  },
  {
   "cell_type": "code",
   "execution_count": 37,
   "metadata": {},
   "outputs": [],
   "source": [
    "class C(A,B):\n",
    "\n",
    "    def adios(self):\n",
    "    \tB.adios(self)"
   ]
  },
  {
   "cell_type": "markdown",
   "metadata": {},
   "source": [
    "Extendiendo métodos:\n",
    "vimos que es posible llamar manualmente un método de una superclase, pero esa no es su única utilidad, también se utiliza para extender un método sin perder la funcionalidad de la clase heredada:"
   ]
  },
  {
   "cell_type": "code",
   "execution_count": 38,
   "metadata": {},
   "outputs": [
    {
     "name": "stdout",
     "output_type": "stream",
     "text": [
      "Hola de la propia clase B\n",
      "Hola heredado de la clase A\n"
     ]
    }
   ],
   "source": [
    "class A():\n",
    "    def hola(self):\n",
    "        print(\"Hola heredado de la clase A\")\n",
    "\n",
    "\n",
    "class B(A):\n",
    "\n",
    "    def hola(self):\n",
    "        print(\"Hola de la propia clase B\")\n",
    "        A.hola(self)  # <-- aquí la magia\n",
    "\n",
    "\n",
    "b = B()\n",
    "b.hola()"
   ]
  },
  {
   "cell_type": "markdown",
   "metadata": {},
   "source": [
    "Python 3 provee un nivel de abstracción para no tener que hacer referencia explícitamente al nombre de la superclase usando la función super() para substituir la superclase inmediata:"
   ]
  },
  {
   "cell_type": "code",
   "execution_count": 39,
   "metadata": {},
   "outputs": [],
   "source": [
    "def hola(self):\n",
    "    print(\"Hola de la propia clase B\")\n",
    "    super().hola()"
   ]
  },
  {
   "cell_type": "markdown",
   "metadata": {},
   "source": [
    "Esto también se puede escribir con la sintaxis que indica explícitamente buscar la superclase de B, que es A, de la siguiente manera:"
   ]
  },
  {
   "cell_type": "code",
   "execution_count": 41,
   "metadata": {},
   "outputs": [],
   "source": [
    "def hola(self):\n",
    "    print(\"Hola de la propia clase B\")\n",
    "    super(B, self).hola()"
   ]
  },
  {
   "cell_type": "markdown",
   "metadata": {},
   "source": []
  },
  {
   "cell_type": "markdown",
   "metadata": {},
   "source": []
  }
 ],
 "metadata": {
  "kernelspec": {
   "display_name": "Python 3",
   "language": "python",
   "name": "python3"
  },
  "language_info": {
   "codemirror_mode": {
    "name": "ipython",
    "version": 3
   },
   "file_extension": ".py",
   "mimetype": "text/x-python",
   "name": "python",
   "nbconvert_exporter": "python",
   "pygments_lexer": "ipython3",
   "version": "3.7.4"
  }
 },
 "nbformat": 4,
 "nbformat_minor": 4
}
