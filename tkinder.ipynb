{
 "cells": [
  {
   "cell_type": "markdown",
   "metadata": {},
   "source": [
    "### Introducción\n",
    "\n",
    "De las tres bibliotecas que utilizaremos en este curso, Tkinter es la única que en principio viene preinstalada, es por decirlo de alguna forma la biblioteca oficial de Python para crear interfaces gráficas.\n",
    "\n",
    "Si bien es bastante simple y fácil de empezar a utilizar, por contra ofrece pocos elementos gráficos y un control limitado sobre el comportamiento de la interfaz. Además su principal es que en realidad se trata de un puente para usar otra biblioteca gráfica llamada Tcl/Tk en Python. Eso hace que carezca en sí misma de una documentación en condiciones y si quieres profundizar en sus componentes tienes que acabar consultando la documentación oficial de Tcl/Tk, cuya presentación digamos que no es muy amigable.\n",
    "\n",
    "En fin, vamos a crear nuestro programa de ejemplo a ver qué podemos aprender de él:"
   ]
  },
  {
   "cell_type": "raw",
   "metadata": {},
   "source": [
    "# Todos los componentes se encuentran en este módulo\n",
    "import tkinter as tk  \n",
    "\n",
    "\n",
    "# Tk es la clase que crea el componente raíz o ventana principal\n",
    "app = tk.Tk()   \n",
    "# Al instanciarlo el primer argumento indica el contenedor\n",
    "button = tk.Button(app, text=\"Hola\")  \n",
    "# Su método mainloop() inicia el bucle infinito del programa\n",
    "# Podemos usar el método pack para empaquetarlo en su contenedor\n",
    "button.pack()\n",
    "# Esto le dará 100px de ancho por 50 de alto\n",
    "app.geometry(\"100x50\")\n",
    "def hola():\n",
    "    print(\"¡Hola mundo!\")\n",
    "\n",
    "# ...\n",
    "\n",
    "button = tk.Button(app, text=\"Hola\", command=hola)\n",
    "app.mainloop()  \n"
   ]
  },
  {
   "cell_type": "markdown",
   "metadata": {},
   "source": [
    "El componente raíz es una ventana en sí misma, pero no tiene ningún contenido. Si queremos añadir algo dentro tendremos que crear otros componentes y añadirlos dentro, por ejemplo un botón:"
   ]
  },
  {
   "cell_type": "markdown",
   "metadata": {},
   "source": [
    "Sin embargo en tkinter no es suficiente con crear un componente y añadirlo al contenedor, tenemos que posicionarlo:"
   ]
  },
  {
   "cell_type": "markdown",
   "metadata": {},
   "source": [
    "Como veis ya aparece nuestro botón, pero curiosamente la ventana se ha estrechado. Eso es porque el componente raíz no tiene tamaño propio.\n",
    "\n",
    "Para añadirle un tamaño por defecto podemos usar el método geometry:"
   ]
  },
  {
   "cell_type": "markdown",
   "metadata": {},
   "source": [
    "Con esto ya tenemos nuestro programa \"Hola Mundo\" con Tkinter, sin embargo se trata de una estructura poco reutilizable y tener que definir las funciones antes no es muy práctico.\n",
    "\n",
    "Podemos solucionar estos problemas adaptando el ejemplo para que use programación orientada a objetos bajo nuestra propia lógica:"
   ]
  },
  {
   "cell_type": "code",
   "execution_count": 8,
   "metadata": {},
   "outputs": [
    {
     "name": "stdout",
     "output_type": "stream",
     "text": [
      "¡Hola mundo!\n",
      "¡Hola mundo!\n",
      "¡Hola mundo!\n",
      "¡Hola mundo!\n"
     ]
    }
   ],
   "source": [
    "import tkinter as tk\n",
    "\n",
    "\n",
    "class MainWindow:\n",
    "    # Le pasamos el componente raíz al constructor\n",
    "    def __init__(self, root):\n",
    "        # Establecemos el tamaño de la raíz\n",
    "        root.geometry(\"100x50\")\n",
    "        # Añadimos el botón y lo empaquetamos\n",
    "        button = tk.Button(root, text=\"Hola\", command=self.hola)\n",
    "        button.pack()\n",
    "\n",
    "    # Definimos la función como un método de clase\n",
    "    def hola(self):\n",
    "        print(\"¡Hola mundo!\")\n",
    "\n",
    "\n",
    "# Creamos la aplicación, la ventana e iniciamos el bucle\n",
    "app = tk.Tk()\n",
    "window = MainWindow(app)\n",
    "app.mainloop()"
   ]
  },
  {
   "cell_type": "code",
   "execution_count": null,
   "metadata": {},
   "outputs": [],
   "source": []
  }
 ],
 "metadata": {
  "kernelspec": {
   "display_name": "Python 3",
   "language": "python",
   "name": "python3"
  },
  "language_info": {
   "codemirror_mode": {
    "name": "ipython",
    "version": 3
   },
   "file_extension": ".py",
   "mimetype": "text/x-python",
   "name": "python",
   "nbconvert_exporter": "python",
   "pygments_lexer": "ipython3",
   "version": "3.7.4"
  }
 },
 "nbformat": 4,
 "nbformat_minor": 4
}
